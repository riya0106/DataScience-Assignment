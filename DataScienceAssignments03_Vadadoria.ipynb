{
 "cells": [
  {
   "cell_type": "code",
   "execution_count": 71,
   "id": "89b5e1d7",
   "metadata": {},
   "outputs": [],
   "source": [
    "import requests\n",
    "import pandas as pd\n",
    "from bs4 import BeautifulSoup"
   ]
  },
  {
   "cell_type": "code",
   "execution_count": 72,
   "id": "346e28f6",
   "metadata": {},
   "outputs": [],
   "source": [
    "url = \"https://webpages.charlotte.edu/mscipion\""
   ]
  },
  {
   "cell_type": "code",
   "execution_count": 73,
   "id": "8aad613c",
   "metadata": {},
   "outputs": [
    {
     "name": "stdout",
     "output_type": "stream",
     "text": [
      "<Response [200]>\n"
     ]
    }
   ],
   "source": [
    "r=requests.get(url)\n",
    "print(r)"
   ]
  },
  {
   "cell_type": "code",
   "execution_count": 74,
   "id": "f7f9f9cc",
   "metadata": {},
   "outputs": [
    {
     "data": {
      "text/plain": [
       "<!DOCTYPE html>\n",
       "\n",
       "<!--\n",
       "    Plain-Academic by Vasilios Mavroudis\n",
       "    Released under the Simplified BSD License/FreeBSD (2-clause) License.\n",
       "    https://github.com/mavroudisv/plain-academic\n",
       "-->\n",
       "<html lang=\"en\">\n",
       "<head>\n",
       "<title>Python Web Scraping</title>\n",
       "<meta charset=\"utf-8\"/>\n",
       "<meta content=\"width=device-width, initial-scale=1\" name=\"viewport\"/>\n",
       "<link href=\"https://maxcdn.bootstrapcdn.com/bootstrap/3.3.6/css/bootstrap.min.css\" rel=\"stylesheet\"/>\n",
       "<script src=\"https://ajax.googleapis.com/ajax/libs/jquery/1.12.0/jquery.min.js\"></script>\n",
       "<script src=\"https://maxcdn.bootstrapcdn.com/bootstrap/3.3.6/js/bootstrap.min.js\"></script>\n",
       "<link href=\"https://fonts.googleapis.com/css?family=Oswald:700\" rel=\"stylesheet\" type=\"text/css\"/>\n",
       "<style>\n",
       "table {\n",
       "  font-family: arial, sans-serif;\n",
       "  border-collapse: collapse;\n",
       "  width: 100%;\n",
       "}\n",
       "\n",
       "td, th {\n",
       "  border: 1px solid #dddddd;\n",
       "  text-align: left;\n",
       "  padding: 8px;\n",
       "}\n",
       "\n",
       "tr:nth-child(even) {\n",
       "  background-color: #dddddd;\n",
       "}\n",
       "</style>\n",
       "</head>\n",
       "<body>\n",
       "<!-- Navigation -->\n",
       "<nav class=\"navbar navbar-inverse navbar-static-top\" role=\"navigation\">\n",
       "<div class=\"container\">\n",
       "<div class=\"navbar-header\">\n",
       "<button class=\"navbar-toggle collapsed\" data-target=\"#bs-example-navbar-collapse-1\" data-toggle=\"collapse\" type=\"button\">\n",
       "<span class=\"sr-only\">Toggle navigation</span>\n",
       "<span class=\"icon-bar\"></span>\n",
       "<span class=\"icon-bar\"></span>\n",
       "<span class=\"icon-bar\"></span>\n",
       "</button>\n",
       "</div>\n",
       "<!-- Collect the nav links, forms, and other content for toggling -->\n",
       "<div class=\"collapse navbar-collapse\" id=\"bs-example-navbar-collapse-1\">\n",
       "<ul class=\"nav navbar-nav\">\n",
       "<li><a href=\"index.html\">Home</a></li>\n",
       "<li><a href=\"#\">Projects</a></li>\n",
       "<li><a href=\"#publications\">Publications</a></li>\n",
       "<li><a href=\"#\">CV</a></li>\n",
       "</ul>\n",
       "</div>\n",
       "</div>\n",
       "</nav>\n",
       "<!-- Page Content -->\n",
       "<div class=\"container\">\n",
       "<div class=\"row\">\n",
       "<!-- Entries Column -->\n",
       "<div class=\"col-md-8\" style=\"height: 100vh;\">\n",
       "<!-- Main Image -->\n",
       "<img alt=\"\" class=\"img-responsive\" src=\"photo.gif\"/><br/>\n",
       "<div style=\"margin-top:3%; text-align:justify;\">\n",
       "<h2>Web Scraping Assignment:</h2>\n",
       "<ol>\n",
       "<li>Scrape the table below using the BeautifulSoup library. Use the examples posted in Canvas.</li>\n",
       "<li> store the informaton into a pandas dataframe.</li>\n",
       "<li>Save your code in a Jupyter notebook file.</li>\n",
       "<li>Upload your .ipynb file into your personal Github repository. Make sure to write a brief README.md file.</li>\n",
       "<li>Upload the Github link on Canvas.</li>\n",
       "</ol>\n",
       "<hr/>\n",
       "<h3>Table</h3>\n",
       "<br/>\n",
       "<table>\n",
       "<tr>\n",
       "<th>Student</th>\n",
       "<th>Favourite Computer Language</th>\n",
       "<th>Years of Experience</th>\n",
       "</tr>\n",
       "<tr>\n",
       "<td>Fred</td>\n",
       "<td>Kotlin</td>\n",
       "<td>4</td>\n",
       "</tr>\n",
       "<tr>\n",
       "<td>Paula</td>\n",
       "<td>Python</td>\n",
       "<td>2</td>\n",
       "</tr>\n",
       "<tr>\n",
       "<td>Ernst</td>\n",
       "<td>Java</td>\n",
       "<td>7</td>\n",
       "</tr>\n",
       "<tr>\n",
       "<td>Isabel</td>\n",
       "<td>C++</td>\n",
       "<td>3</td>\n",
       "</tr>\n",
       "<tr>\n",
       "<td>Tony</td>\n",
       "<td>Pearl</td>\n",
       "<td>7</td>\n",
       "</tr>\n",
       "<tr>\n",
       "<td>Maria</td>\n",
       "<td>Cobol</td>\n",
       "<td>15</td>\n",
       "</tr></table>\n",
       "</div>\n",
       "</div>\n",
       "\n",
       "<body>\n",
       "<!-- Contact Info on the Sidebar -->\n",
       "<div class=\"col-md-4\">\n",
       "<div style=\"font-family: 'Oswald', sans-serif; font-size: 32px;\"><b>Marco Scipioni</b></div><br/>\n",
       "<p><b>Email:</b> mscipion at uncc.edu<br/>\n",
       "<b>Department:</b> School of Data Science <br/>\n",
       "<b>Institution:</b> University of North Carolina at Charlotte\n",
       "                </p>\n",
       "</div>\n",
       "<!-- Links on the Sidebar -->\n",
       "<div class=\"col-md-4\" style=\"margin-top:1%\">\n",
       "<dd><a href=\"https://sds.charlotte.edu/directory/marco-scipioni/\">UNCC Webpage</a></dd>\n",
       "<dd><a href=\"https://www.linkedin.com/in/marco-scipioni-21895826/\">LinkedIn</a></dd>\n",
       "</div>\n",
       "</body></div>\n",
       "</div>\n",
       "<!-- /.container -->\n",
       "<!-- Other people may like it too! -->\n",
       "<a href=\"https://github.com/mavroudisv/plain-academic\" style=\"color:#b5bec9;font-size:0.8em; float:right;\">Plain Academic</a>\n",
       "</body>\n",
       "</html>"
      ]
     },
     "execution_count": 74,
     "metadata": {},
     "output_type": "execute_result"
    }
   ],
   "source": [
    "BeautifulSoup(r.text, 'html.parser')"
   ]
  },
  {
   "cell_type": "code",
   "execution_count": 75,
   "id": "b5f11b5d",
   "metadata": {},
   "outputs": [
    {
     "data": {
      "text/plain": [
       "[<th>Student</th>,\n",
       " <th>Favourite Computer Language</th>,\n",
       " <th>Years of Experience</th>]"
      ]
     },
     "execution_count": 75,
     "metadata": {},
     "output_type": "execute_result"
    }
   ],
   "source": [
    "table = soup.find('table')\n",
    "headers = table.find_all(\"th\")\n",
    "headers"
   ]
  },
  {
   "cell_type": "code",
   "execution_count": 76,
   "id": "40e26386",
   "metadata": {},
   "outputs": [
    {
     "name": "stdout",
     "output_type": "stream",
     "text": [
      "['Student', 'Favourite Computer Language', 'Years of Experience']\n"
     ]
    }
   ],
   "source": [
    "titles = []\n",
    "for i in headers:\n",
    "    title=i.text\n",
    "    titles.append(title)\n",
    "print(titles)"
   ]
  },
  {
   "cell_type": "code",
   "execution_count": 77,
   "id": "04671fc0",
   "metadata": {},
   "outputs": [
    {
     "data": {
      "text/html": [
       "<div>\n",
       "<style scoped>\n",
       "    .dataframe tbody tr th:only-of-type {\n",
       "        vertical-align: middle;\n",
       "    }\n",
       "\n",
       "    .dataframe tbody tr th {\n",
       "        vertical-align: top;\n",
       "    }\n",
       "\n",
       "    .dataframe thead th {\n",
       "        text-align: right;\n",
       "    }\n",
       "</style>\n",
       "<table border=\"1\" class=\"dataframe\">\n",
       "  <thead>\n",
       "    <tr style=\"text-align: right;\">\n",
       "      <th></th>\n",
       "      <th>Student</th>\n",
       "      <th>Favourite Computer Language</th>\n",
       "      <th>Years of Experience</th>\n",
       "    </tr>\n",
       "  </thead>\n",
       "  <tbody>\n",
       "  </tbody>\n",
       "</table>\n",
       "</div>"
      ],
      "text/plain": [
       "Empty DataFrame\n",
       "Columns: [Student, Favourite Computer Language, Years of Experience]\n",
       "Index: []"
      ]
     },
     "execution_count": 77,
     "metadata": {},
     "output_type": "execute_result"
    }
   ],
   "source": [
    "df = pd.DataFrame(columns=titles)\n",
    "df.head()"
   ]
  },
  {
   "cell_type": "code",
   "execution_count": 78,
   "id": "60bf6b56",
   "metadata": {},
   "outputs": [
    {
     "name": "stdout",
     "output_type": "stream",
     "text": [
      "[<tr>\n",
      "<th>Student</th>\n",
      "<th>Favourite Computer Language</th>\n",
      "<th>Years of Experience</th>\n",
      "</tr>, <tr>\n",
      "<td>Fred</td>\n",
      "<td>Kotlin</td>\n",
      "<td>4</td>\n",
      "</tr>, <tr>\n",
      "<td>Paula</td>\n",
      "<td>Python</td>\n",
      "<td>2</td>\n",
      "</tr>, <tr>\n",
      "<td>Ernst</td>\n",
      "<td>Java</td>\n",
      "<td>7</td>\n",
      "</tr>, <tr>\n",
      "<td>Isabel</td>\n",
      "<td>C++</td>\n",
      "<td>3</td>\n",
      "</tr>, <tr>\n",
      "<td>Tony</td>\n",
      "<td>Pearl</td>\n",
      "<td>7</td>\n",
      "</tr>, <tr>\n",
      "<td>Maria</td>\n",
      "<td>Cobol</td>\n",
      "<td>15</td>\n",
      "</tr>]\n"
     ]
    }
   ],
   "source": [
    "rows = table.find_all(\"tr\")\n",
    "print(rows)"
   ]
  },
  {
   "cell_type": "code",
   "execution_count": 79,
   "id": "5d9b06b4",
   "metadata": {},
   "outputs": [
    {
     "name": "stdout",
     "output_type": "stream",
     "text": [
      "<tr>\n",
      "<td>Fred</td>\n",
      "<td>Kotlin</td>\n",
      "<td>4</td>\n",
      "</tr>\n",
      "<tr>\n",
      "<td>Paula</td>\n",
      "<td>Python</td>\n",
      "<td>2</td>\n",
      "</tr>\n",
      "<tr>\n",
      "<td>Ernst</td>\n",
      "<td>Java</td>\n",
      "<td>7</td>\n",
      "</tr>\n",
      "<tr>\n",
      "<td>Isabel</td>\n",
      "<td>C++</td>\n",
      "<td>3</td>\n",
      "</tr>\n",
      "<tr>\n",
      "<td>Tony</td>\n",
      "<td>Pearl</td>\n",
      "<td>7</td>\n",
      "</tr>\n",
      "<tr>\n",
      "<td>Maria</td>\n",
      "<td>Cobol</td>\n",
      "<td>15</td>\n",
      "</tr>\n"
     ]
    }
   ],
   "source": [
    "for i in rows[1:]:\n",
    "    print(i)"
   ]
  },
  {
   "cell_type": "code",
   "execution_count": 80,
   "id": "e35988f7",
   "metadata": {},
   "outputs": [],
   "source": [
    "for i in rows[1:]:\n",
    "    data=i.find_all(\"td\")\n",
    "    row=[tr.text for tr in data]\n",
    "    l=len(df)\n",
    "    df.loc[l]=row"
   ]
  },
  {
   "cell_type": "code",
   "execution_count": 81,
   "id": "e7ee2178",
   "metadata": {},
   "outputs": [
    {
     "data": {
      "text/html": [
       "<div>\n",
       "<style scoped>\n",
       "    .dataframe tbody tr th:only-of-type {\n",
       "        vertical-align: middle;\n",
       "    }\n",
       "\n",
       "    .dataframe tbody tr th {\n",
       "        vertical-align: top;\n",
       "    }\n",
       "\n",
       "    .dataframe thead th {\n",
       "        text-align: right;\n",
       "    }\n",
       "</style>\n",
       "<table border=\"1\" class=\"dataframe\">\n",
       "  <thead>\n",
       "    <tr style=\"text-align: right;\">\n",
       "      <th></th>\n",
       "      <th>Student</th>\n",
       "      <th>Favourite Computer Language</th>\n",
       "      <th>Years of Experience</th>\n",
       "    </tr>\n",
       "  </thead>\n",
       "  <tbody>\n",
       "    <tr>\n",
       "      <th>0</th>\n",
       "      <td>Fred</td>\n",
       "      <td>Kotlin</td>\n",
       "      <td>4</td>\n",
       "    </tr>\n",
       "    <tr>\n",
       "      <th>1</th>\n",
       "      <td>Paula</td>\n",
       "      <td>Python</td>\n",
       "      <td>2</td>\n",
       "    </tr>\n",
       "    <tr>\n",
       "      <th>2</th>\n",
       "      <td>Ernst</td>\n",
       "      <td>Java</td>\n",
       "      <td>7</td>\n",
       "    </tr>\n",
       "    <tr>\n",
       "      <th>3</th>\n",
       "      <td>Isabel</td>\n",
       "      <td>C++</td>\n",
       "      <td>3</td>\n",
       "    </tr>\n",
       "    <tr>\n",
       "      <th>4</th>\n",
       "      <td>Tony</td>\n",
       "      <td>Pearl</td>\n",
       "      <td>7</td>\n",
       "    </tr>\n",
       "    <tr>\n",
       "      <th>5</th>\n",
       "      <td>Maria</td>\n",
       "      <td>Cobol</td>\n",
       "      <td>15</td>\n",
       "    </tr>\n",
       "  </tbody>\n",
       "</table>\n",
       "</div>"
      ],
      "text/plain": [
       "  Student Favourite Computer Language Years of Experience\n",
       "0    Fred                      Kotlin                   4\n",
       "1   Paula                      Python                   2\n",
       "2   Ernst                        Java                   7\n",
       "3  Isabel                         C++                   3\n",
       "4    Tony                       Pearl                   7\n",
       "5   Maria                       Cobol                  15"
      ]
     },
     "execution_count": 81,
     "metadata": {},
     "output_type": "execute_result"
    }
   ],
   "source": [
    "df"
   ]
  },
  {
   "cell_type": "code",
   "execution_count": null,
   "id": "0f22641f",
   "metadata": {},
   "outputs": [],
   "source": []
  }
 ],
 "metadata": {
  "kernelspec": {
   "display_name": "Python 3 (ipykernel)",
   "language": "python",
   "name": "python3"
  },
  "language_info": {
   "codemirror_mode": {
    "name": "ipython",
    "version": 3
   },
   "file_extension": ".py",
   "mimetype": "text/x-python",
   "name": "python",
   "nbconvert_exporter": "python",
   "pygments_lexer": "ipython3",
   "version": "3.11.4"
  }
 },
 "nbformat": 4,
 "nbformat_minor": 5
}
